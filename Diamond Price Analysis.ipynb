{
  "metadata": {
    "kernelspec": {
      "name": "python",
      "display_name": "Python (Pyodide)",
      "language": "python"
    },
    "language_info": {
      "codemirror_mode": {
        "name": "python",
        "version": 3
      },
      "file_extension": ".py",
      "mimetype": "text/x-python",
      "name": "python",
      "nbconvert_exporter": "python",
      "pygments_lexer": "ipython3",
      "version": "3.8"
    }
  },
  "nbformat_minor": 5,
  "nbformat": 4,
  "cells": [
    {
      "id": "f2373236-7562-4722-9c98-01660e554c14",
      "cell_type": "markdown",
      "source": "# ",
      "metadata": {}
    },
    {
      "id": "fb3b102c-22e5-4e01-86a7-4823c4d11a29",
      "cell_type": "code",
      "source": "import pandas as pd \nimport matplotlib.pyplot as plt\nimport numpy as np ",
      "metadata": {
        "trusted": true
      },
      "outputs": [],
      "execution_count": 1
    },
    {
      "id": "72a47d95-9901-4c47-a7cf-6066afad6258",
      "cell_type": "code",
      "source": "data=pd.read_csv('Diamonds.csv')",
      "metadata": {
        "trusted": true
      },
      "outputs": [],
      "execution_count": 2
    },
    {
      "id": "4e86d361-18ae-4df1-9240-15e9cbeb3663",
      "cell_type": "code",
      "source": "data.head()",
      "metadata": {
        "trusted": true
      },
      "outputs": [
        {
          "execution_count": 3,
          "output_type": "execute_result",
          "data": {
            "text/plain": "   Unnamed: 0  carat      cut color clarity  depth  table  price     x     y  \\\n0           1   0.23    Ideal     E     SI2   61.5   55.0    326  3.95  3.98   \n1           2   0.21  Premium     E     SI1   59.8   61.0    326  3.89  3.84   \n2           3   0.23     Good     E     VS1   56.9   65.0    327  4.05  4.07   \n3           4   0.29  Premium     I     VS2   62.4   58.0    334  4.20  4.23   \n4           5   0.31     Good     J     SI2   63.3   58.0    335  4.34  4.35   \n\n      z  \n0  2.43  \n1  2.31  \n2  2.31  \n3  2.63  \n4  2.75  ",
            "text/html": "<div>\n<style scoped>\n    .dataframe tbody tr th:only-of-type {\n        vertical-align: middle;\n    }\n\n    .dataframe tbody tr th {\n        vertical-align: top;\n    }\n\n    .dataframe thead th {\n        text-align: right;\n    }\n</style>\n<table border=\"1\" class=\"dataframe\">\n  <thead>\n    <tr style=\"text-align: right;\">\n      <th></th>\n      <th>Unnamed: 0</th>\n      <th>carat</th>\n      <th>cut</th>\n      <th>color</th>\n      <th>clarity</th>\n      <th>depth</th>\n      <th>table</th>\n      <th>price</th>\n      <th>x</th>\n      <th>y</th>\n      <th>z</th>\n    </tr>\n  </thead>\n  <tbody>\n    <tr>\n      <th>0</th>\n      <td>1</td>\n      <td>0.23</td>\n      <td>Ideal</td>\n      <td>E</td>\n      <td>SI2</td>\n      <td>61.5</td>\n      <td>55.0</td>\n      <td>326</td>\n      <td>3.95</td>\n      <td>3.98</td>\n      <td>2.43</td>\n    </tr>\n    <tr>\n      <th>1</th>\n      <td>2</td>\n      <td>0.21</td>\n      <td>Premium</td>\n      <td>E</td>\n      <td>SI1</td>\n      <td>59.8</td>\n      <td>61.0</td>\n      <td>326</td>\n      <td>3.89</td>\n      <td>3.84</td>\n      <td>2.31</td>\n    </tr>\n    <tr>\n      <th>2</th>\n      <td>3</td>\n      <td>0.23</td>\n      <td>Good</td>\n      <td>E</td>\n      <td>VS1</td>\n      <td>56.9</td>\n      <td>65.0</td>\n      <td>327</td>\n      <td>4.05</td>\n      <td>4.07</td>\n      <td>2.31</td>\n    </tr>\n    <tr>\n      <th>3</th>\n      <td>4</td>\n      <td>0.29</td>\n      <td>Premium</td>\n      <td>I</td>\n      <td>VS2</td>\n      <td>62.4</td>\n      <td>58.0</td>\n      <td>334</td>\n      <td>4.20</td>\n      <td>4.23</td>\n      <td>2.63</td>\n    </tr>\n    <tr>\n      <th>4</th>\n      <td>5</td>\n      <td>0.31</td>\n      <td>Good</td>\n      <td>J</td>\n      <td>SI2</td>\n      <td>63.3</td>\n      <td>58.0</td>\n      <td>335</td>\n      <td>4.34</td>\n      <td>4.35</td>\n      <td>2.75</td>\n    </tr>\n  </tbody>\n</table>\n</div>"
          },
          "metadata": {}
        }
      ],
      "execution_count": 3
    },
    {
      "id": "a6ae618c-7144-4423-862b-6623ea5de58b",
      "cell_type": "code",
      "source": "data.info()",
      "metadata": {
        "trusted": true
      },
      "outputs": [
        {
          "name": "stdout",
          "text": "<class 'pandas.core.frame.DataFrame'>\nRangeIndex: 53943 entries, 0 to 53942\nData columns (total 11 columns):\n #   Column      Non-Null Count  Dtype  \n---  ------      --------------  -----  \n 0   Unnamed: 0  53943 non-null  int64  \n 1   carat       53943 non-null  float64\n 2   cut         53943 non-null  object \n 3   color       53943 non-null  object \n 4   clarity     53943 non-null  object \n 5   depth       53943 non-null  float64\n 6   table       53943 non-null  float64\n 7   price       53943 non-null  int64  \n 8   x           53943 non-null  float64\n 9   y           53943 non-null  float64\n 10  z           53943 non-null  float64\ndtypes: float64(6), int64(2), object(3)\nmemory usage: 3.9+ MB\n",
          "output_type": "stream"
        }
      ],
      "execution_count": 4
    },
    {
      "id": "f9470d77-c76a-4040-90a2-0dfb78262612",
      "cell_type": "markdown",
      "source": "### Pre Processing ",
      "metadata": {}
    },
    {
      "id": "087f95a7-2829-4031-9554-69d98243ab9a",
      "cell_type": "code",
      "source": "from sklearn.preprocessing import LabelEncoder\nle=LabelEncoder()",
      "metadata": {
        "trusted": true
      },
      "outputs": [],
      "execution_count": 10
    },
    {
      "id": "b0ddce9b-d39d-4100-8f36-a0a023c95eba",
      "cell_type": "code",
      "source": "data['cut'] = le.fit_transform(data.cut)",
      "metadata": {
        "trusted": true
      },
      "outputs": [],
      "execution_count": 6
    },
    {
      "id": "f11d3807-350a-4922-9aeb-1a47eef4d069",
      "cell_type": "code",
      "source": "data['color'] = le.fit_transform(data.color)",
      "metadata": {
        "trusted": true
      },
      "outputs": [],
      "execution_count": 7
    },
    {
      "id": "0b8a81e4-bc86-4ad6-b0f9-1ba2d5868178",
      "cell_type": "code",
      "source": "data['clarity'] = le.fit_transform(data.clarity)",
      "metadata": {
        "trusted": true
      },
      "outputs": [],
      "execution_count": 8
    },
    {
      "id": "784a2f1d-8e17-44e7-ad6f-444845443430",
      "cell_type": "code",
      "source": "data.head()",
      "metadata": {
        "trusted": true
      },
      "outputs": [
        {
          "execution_count": 9,
          "output_type": "execute_result",
          "data": {
            "text/plain": "   Unnamed: 0  carat  cut  color  clarity  depth  table  price     x     y  \\\n0           1   0.23    2      1        3   61.5   55.0    326  3.95  3.98   \n1           2   0.21    3      1        2   59.8   61.0    326  3.89  3.84   \n2           3   0.23    1      1        4   56.9   65.0    327  4.05  4.07   \n3           4   0.29    3      5        5   62.4   58.0    334  4.20  4.23   \n4           5   0.31    1      6        3   63.3   58.0    335  4.34  4.35   \n\n      z  \n0  2.43  \n1  2.31  \n2  2.31  \n3  2.63  \n4  2.75  ",
            "text/html": "<div>\n<style scoped>\n    .dataframe tbody tr th:only-of-type {\n        vertical-align: middle;\n    }\n\n    .dataframe tbody tr th {\n        vertical-align: top;\n    }\n\n    .dataframe thead th {\n        text-align: right;\n    }\n</style>\n<table border=\"1\" class=\"dataframe\">\n  <thead>\n    <tr style=\"text-align: right;\">\n      <th></th>\n      <th>Unnamed: 0</th>\n      <th>carat</th>\n      <th>cut</th>\n      <th>color</th>\n      <th>clarity</th>\n      <th>depth</th>\n      <th>table</th>\n      <th>price</th>\n      <th>x</th>\n      <th>y</th>\n      <th>z</th>\n    </tr>\n  </thead>\n  <tbody>\n    <tr>\n      <th>0</th>\n      <td>1</td>\n      <td>0.23</td>\n      <td>2</td>\n      <td>1</td>\n      <td>3</td>\n      <td>61.5</td>\n      <td>55.0</td>\n      <td>326</td>\n      <td>3.95</td>\n      <td>3.98</td>\n      <td>2.43</td>\n    </tr>\n    <tr>\n      <th>1</th>\n      <td>2</td>\n      <td>0.21</td>\n      <td>3</td>\n      <td>1</td>\n      <td>2</td>\n      <td>59.8</td>\n      <td>61.0</td>\n      <td>326</td>\n      <td>3.89</td>\n      <td>3.84</td>\n      <td>2.31</td>\n    </tr>\n    <tr>\n      <th>2</th>\n      <td>3</td>\n      <td>0.23</td>\n      <td>1</td>\n      <td>1</td>\n      <td>4</td>\n      <td>56.9</td>\n      <td>65.0</td>\n      <td>327</td>\n      <td>4.05</td>\n      <td>4.07</td>\n      <td>2.31</td>\n    </tr>\n    <tr>\n      <th>3</th>\n      <td>4</td>\n      <td>0.29</td>\n      <td>3</td>\n      <td>5</td>\n      <td>5</td>\n      <td>62.4</td>\n      <td>58.0</td>\n      <td>334</td>\n      <td>4.20</td>\n      <td>4.23</td>\n      <td>2.63</td>\n    </tr>\n    <tr>\n      <th>4</th>\n      <td>5</td>\n      <td>0.31</td>\n      <td>1</td>\n      <td>6</td>\n      <td>3</td>\n      <td>63.3</td>\n      <td>58.0</td>\n      <td>335</td>\n      <td>4.34</td>\n      <td>4.35</td>\n      <td>2.75</td>\n    </tr>\n  </tbody>\n</table>\n</div>"
          },
          "metadata": {}
        }
      ],
      "execution_count": 9
    },
    {
      "id": "b1add85d-2f1d-48b5-b604-1c15623b3cf9",
      "cell_type": "markdown",
      "source": "### Split Dataset",
      "metadata": {}
    },
    {
      "id": "8cd8c218-7327-42c7-b31f-f16799c0784a",
      "cell_type": "code",
      "source": "from sklearn.model_selection import train_test_split",
      "metadata": {
        "trusted": true
      },
      "outputs": [],
      "execution_count": 11
    },
    {
      "id": "96000805-994c-4bf2-9889-06f23d7f5c51",
      "cell_type": "code",
      "source": "X=data[['carat','cut','color','clarity','depth','table','x','y','z']]\nY=data['price']",
      "metadata": {
        "trusted": true
      },
      "outputs": [],
      "execution_count": 13
    },
    {
      "id": "b7c800f6-c4bb-494a-b9ea-ae4143ae10c3",
      "cell_type": "code",
      "source": "x_train, x_test, y_train, y_test=train_test_split(X,Y, test_size=0.2)",
      "metadata": {
        "trusted": true
      },
      "outputs": [],
      "execution_count": 14
    },
    {
      "id": "5c13bb75-2337-4432-902d-118d186d0c1d",
      "cell_type": "code",
      "source": "x_train.head()",
      "metadata": {
        "trusted": true
      },
      "outputs": [
        {
          "execution_count": 16,
          "output_type": "execute_result",
          "data": {
            "text/plain": "       carat  cut  color  clarity  depth  table     x     y     z\n32985   0.30    2      1        7   61.0   56.0  4.33  4.39  2.66\n22105   1.07    2      1        7   62.3   56.0  6.51  6.61  4.09\n43043   0.51    2      4        5   61.5   55.0  5.16  5.18  3.18\n32913   0.44    4      5        4   62.8   56.0  4.83  4.88  3.05\n7511    0.61    2      0        6   62.1   56.0  5.43  5.46  3.38",
            "text/html": "<div>\n<style scoped>\n    .dataframe tbody tr th:only-of-type {\n        vertical-align: middle;\n    }\n\n    .dataframe tbody tr th {\n        vertical-align: top;\n    }\n\n    .dataframe thead th {\n        text-align: right;\n    }\n</style>\n<table border=\"1\" class=\"dataframe\">\n  <thead>\n    <tr style=\"text-align: right;\">\n      <th></th>\n      <th>carat</th>\n      <th>cut</th>\n      <th>color</th>\n      <th>clarity</th>\n      <th>depth</th>\n      <th>table</th>\n      <th>x</th>\n      <th>y</th>\n      <th>z</th>\n    </tr>\n  </thead>\n  <tbody>\n    <tr>\n      <th>32985</th>\n      <td>0.30</td>\n      <td>2</td>\n      <td>1</td>\n      <td>7</td>\n      <td>61.0</td>\n      <td>56.0</td>\n      <td>4.33</td>\n      <td>4.39</td>\n      <td>2.66</td>\n    </tr>\n    <tr>\n      <th>22105</th>\n      <td>1.07</td>\n      <td>2</td>\n      <td>1</td>\n      <td>7</td>\n      <td>62.3</td>\n      <td>56.0</td>\n      <td>6.51</td>\n      <td>6.61</td>\n      <td>4.09</td>\n    </tr>\n    <tr>\n      <th>43043</th>\n      <td>0.51</td>\n      <td>2</td>\n      <td>4</td>\n      <td>5</td>\n      <td>61.5</td>\n      <td>55.0</td>\n      <td>5.16</td>\n      <td>5.18</td>\n      <td>3.18</td>\n    </tr>\n    <tr>\n      <th>32913</th>\n      <td>0.44</td>\n      <td>4</td>\n      <td>5</td>\n      <td>4</td>\n      <td>62.8</td>\n      <td>56.0</td>\n      <td>4.83</td>\n      <td>4.88</td>\n      <td>3.05</td>\n    </tr>\n    <tr>\n      <th>7511</th>\n      <td>0.61</td>\n      <td>2</td>\n      <td>0</td>\n      <td>6</td>\n      <td>62.1</td>\n      <td>56.0</td>\n      <td>5.43</td>\n      <td>5.46</td>\n      <td>3.38</td>\n    </tr>\n  </tbody>\n</table>\n</div>"
          },
          "metadata": {}
        }
      ],
      "execution_count": 16
    },
    {
      "id": "a5829774-8330-44a5-a82e-03d08250693e",
      "cell_type": "markdown",
      "source": "### Linear Regression",
      "metadata": {}
    },
    {
      "id": "6b679fa7-a50c-4871-b60f-703c06854876",
      "cell_type": "code",
      "source": "from sklearn.linear_model import LinearRegression",
      "metadata": {
        "trusted": true
      },
      "outputs": [],
      "execution_count": 17
    },
    {
      "id": "a2dce9c4-f839-4584-b1c3-ee0859b70c8a",
      "cell_type": "code",
      "source": "reg=LinearRegression()",
      "metadata": {
        "trusted": true
      },
      "outputs": [],
      "execution_count": 18
    },
    {
      "id": "0462b1e5-c4e1-406f-9414-5cf4b8466e30",
      "cell_type": "code",
      "source": "reg.fit(x_train,y_train)",
      "metadata": {
        "trusted": true
      },
      "outputs": [
        {
          "execution_count": 20,
          "output_type": "execute_result",
          "data": {
            "text/plain": "LinearRegression()",
            "text/html": "<style>#sk-container-id-2 {color: black;}#sk-container-id-2 pre{padding: 0;}#sk-container-id-2 div.sk-toggleable {background-color: white;}#sk-container-id-2 label.sk-toggleable__label {cursor: pointer;display: block;width: 100%;margin-bottom: 0;padding: 0.3em;box-sizing: border-box;text-align: center;}#sk-container-id-2 label.sk-toggleable__label-arrow:before {content: \"▸\";float: left;margin-right: 0.25em;color: #696969;}#sk-container-id-2 label.sk-toggleable__label-arrow:hover:before {color: black;}#sk-container-id-2 div.sk-estimator:hover label.sk-toggleable__label-arrow:before {color: black;}#sk-container-id-2 div.sk-toggleable__content {max-height: 0;max-width: 0;overflow: hidden;text-align: left;background-color: #f0f8ff;}#sk-container-id-2 div.sk-toggleable__content pre {margin: 0.2em;color: black;border-radius: 0.25em;background-color: #f0f8ff;}#sk-container-id-2 input.sk-toggleable__control:checked~div.sk-toggleable__content {max-height: 200px;max-width: 100%;overflow: auto;}#sk-container-id-2 input.sk-toggleable__control:checked~label.sk-toggleable__label-arrow:before {content: \"▾\";}#sk-container-id-2 div.sk-estimator input.sk-toggleable__control:checked~label.sk-toggleable__label {background-color: #d4ebff;}#sk-container-id-2 div.sk-label input.sk-toggleable__control:checked~label.sk-toggleable__label {background-color: #d4ebff;}#sk-container-id-2 input.sk-hidden--visually {border: 0;clip: rect(1px 1px 1px 1px);clip: rect(1px, 1px, 1px, 1px);height: 1px;margin: -1px;overflow: hidden;padding: 0;position: absolute;width: 1px;}#sk-container-id-2 div.sk-estimator {font-family: monospace;background-color: #f0f8ff;border: 1px dotted black;border-radius: 0.25em;box-sizing: border-box;margin-bottom: 0.5em;}#sk-container-id-2 div.sk-estimator:hover {background-color: #d4ebff;}#sk-container-id-2 div.sk-parallel-item::after {content: \"\";width: 100%;border-bottom: 1px solid gray;flex-grow: 1;}#sk-container-id-2 div.sk-label:hover label.sk-toggleable__label {background-color: #d4ebff;}#sk-container-id-2 div.sk-serial::before {content: \"\";position: absolute;border-left: 1px solid gray;box-sizing: border-box;top: 0;bottom: 0;left: 50%;z-index: 0;}#sk-container-id-2 div.sk-serial {display: flex;flex-direction: column;align-items: center;background-color: white;padding-right: 0.2em;padding-left: 0.2em;position: relative;}#sk-container-id-2 div.sk-item {position: relative;z-index: 1;}#sk-container-id-2 div.sk-parallel {display: flex;align-items: stretch;justify-content: center;background-color: white;position: relative;}#sk-container-id-2 div.sk-item::before, #sk-container-id-2 div.sk-parallel-item::before {content: \"\";position: absolute;border-left: 1px solid gray;box-sizing: border-box;top: 0;bottom: 0;left: 50%;z-index: -1;}#sk-container-id-2 div.sk-parallel-item {display: flex;flex-direction: column;z-index: 1;position: relative;background-color: white;}#sk-container-id-2 div.sk-parallel-item:first-child::after {align-self: flex-end;width: 50%;}#sk-container-id-2 div.sk-parallel-item:last-child::after {align-self: flex-start;width: 50%;}#sk-container-id-2 div.sk-parallel-item:only-child::after {width: 0;}#sk-container-id-2 div.sk-dashed-wrapped {border: 1px dashed gray;margin: 0 0.4em 0.5em 0.4em;box-sizing: border-box;padding-bottom: 0.4em;background-color: white;}#sk-container-id-2 div.sk-label label {font-family: monospace;font-weight: bold;display: inline-block;line-height: 1.2em;}#sk-container-id-2 div.sk-label-container {text-align: center;}#sk-container-id-2 div.sk-container {/* jupyter's `normalize.less` sets `[hidden] { display: none; }` but bootstrap.min.css set `[hidden] { display: none !important; }` so we also need the `!important` here to be able to override the default hidden behavior on the sphinx rendered scikit-learn.org. See: https://github.com/scikit-learn/scikit-learn/issues/21755 */display: inline-block !important;position: relative;}#sk-container-id-2 div.sk-text-repr-fallback {display: none;}</style><div id=\"sk-container-id-2\" class=\"sk-top-container\"><div class=\"sk-text-repr-fallback\"><pre>LinearRegression()</pre><b>In a Jupyter environment, please rerun this cell to show the HTML representation or trust the notebook. <br />On GitHub, the HTML representation is unable to render, please try loading this page with nbviewer.org.</b></div><div class=\"sk-container\" hidden><div class=\"sk-item\"><div class=\"sk-estimator sk-toggleable\"><input class=\"sk-toggleable__control sk-hidden--visually\" id=\"sk-estimator-id-2\" type=\"checkbox\" checked><label for=\"sk-estimator-id-2\" class=\"sk-toggleable__label sk-toggleable__label-arrow\">LinearRegression</label><div class=\"sk-toggleable__content\"><pre>LinearRegression()</pre></div></div></div></div></div>"
          },
          "metadata": {}
        }
      ],
      "execution_count": 20
    },
    {
      "id": "d19e3c96-377b-4b6f-9072-e409d2351c1d",
      "cell_type": "code",
      "source": "y_pred=reg.predict(x_test)",
      "metadata": {
        "trusted": true
      },
      "outputs": [],
      "execution_count": 22
    },
    {
      "id": "377fb65b-8481-4c49-8359-8d9a9e7b3e60",
      "cell_type": "code",
      "source": "print(y_pred)",
      "metadata": {
        "trusted": true
      },
      "outputs": [
        {
          "name": "stdout",
          "text": "[ 1685.21033835 11180.07157928  2185.75235146 ... 11259.30058232\n  1427.57671564  -255.0401803 ]\n",
          "output_type": "stream"
        }
      ],
      "execution_count": 23
    },
    {
      "id": "c2c8eab6-628d-4b26-81d2-ee5acdb9fb14",
      "cell_type": "code",
      "source": "print(y_test)",
      "metadata": {
        "trusted": true
      },
      "outputs": [
        {
          "name": "stdout",
          "text": "39513     1080\n21733     9801\n4130      3543\n22949    10995\n6493      4061\n         ...  \n25929    15091\n46616     1787\n25679    14611\n39631     1084\n27381      647\nName: price, Length: 10789, dtype: int64\n",
          "output_type": "stream"
        }
      ],
      "execution_count": 24
    },
    {
      "id": "088f8274-a4e6-4398-af46-f79d2f1ac6fa",
      "cell_type": "markdown",
      "source": "### Accuracy of data",
      "metadata": {}
    },
    {
      "id": "268120cb-0562-44e7-929b-e8013f370628",
      "cell_type": "code",
      "source": "from sklearn import metrics",
      "metadata": {
        "trusted": true
      },
      "outputs": [],
      "execution_count": 27
    },
    {
      "id": "e7f4a49d-4e4f-4bcf-be82-b4f4e11093c0",
      "cell_type": "code",
      "source": "score=metrics.r2_score(y_test,y_pred)\nprint(f'Accuracy is {score*100}%')",
      "metadata": {
        "trusted": true
      },
      "outputs": [
        {
          "name": "stdout",
          "text": "Accuracy is 89.07149579064216%\n",
          "output_type": "stream"
        }
      ],
      "execution_count": 29
    },
    {
      "id": "0acfe410-c9e2-491b-b453-39e86cd094eb",
      "cell_type": "code",
      "source": "",
      "metadata": {
        "trusted": true
      },
      "outputs": [],
      "execution_count": null
    }
  ]
}